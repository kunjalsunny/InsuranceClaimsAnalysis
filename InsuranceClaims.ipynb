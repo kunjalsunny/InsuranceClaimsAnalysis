{
  "cells": [
    {
      "cell_type": "code",
      "execution_count": 2,
      "metadata": {
        "collapsed": true,
        "id": "q1xNj6jVOewt"
      },
      "outputs": [],
      "source": []
    },
    {
      "cell_type": "code",
      "execution_count": null,
      "metadata": {
        "colab": {
          "base_uri": "https://localhost:8080/"
        },
        "id": "Ty4ewMNhOtc3",
        "outputId": "3c0c6a50-7232-47af-a6e9-801dca842559"
      },
      "outputs": [],
      "source": []
    },
    {
      "cell_type": "code",
      "execution_count": null,
      "metadata": {
        "colab": {
          "base_uri": "https://localhost:8080/",
          "height": 90
        },
        "id": "xXXFNqOtP6EW",
        "outputId": "c43ec18c-58c9-4342-d7db-2bef3b03a719"
      },
      "outputs": [],
      "source": [
        "import os\n",
        "import shutil\n",
        "from google.colab import files\n",
        "\n",
        "\n",
        "# # Upload your Kaggle API key (kaggle.json)\n",
        "files.upload()\n",
        "\n",
        "kaggle_path = '/root/.config/kaggle'\n",
        "os.makedirs(kaggle_path, exist_ok=True)\n",
        "shutil.move('kaggle.json', os.path.join(kaggle_path,'kaggle.json'))\n",
        "\n",
        "os.chmod(os.path.join(kaggle_path,'kaggle.json'), 600)\n",
        "print(\"kaggle.json has been moved and configured.\")\n",
        "\n"
      ]
    },
    {
      "cell_type": "code",
      "execution_count": null,
      "metadata": {
        "colab": {
          "base_uri": "https://localhost:8080/"
        },
        "id": "suTbNhnLnXs_",
        "outputId": "2a358f9f-8d00-4232-ed12-bec8c1a9aaa4"
      },
      "outputs": [],
      "source": [
        "from kaggle.api.kaggle_api_extended import KaggleApi\n",
        "\n",
        "# Set up the Kaggle API client\n",
        "api = KaggleApi()\n",
        "\n",
        "api.authenticate()\n",
        "\n",
        "dataset = \"litvinenko630/insurance-claims\"\n",
        "download_dir = 'Insurance claims data.csv'\n",
        "\n",
        "os.makedirs(download_dir,exist_ok=True)\n",
        "api.dataset_download_files(dataset, path=download_dir, unzip=True)\n",
        "\n",
        "print(\"Dataset Downloaded and extracted\")"
      ]
    },
    {
      "cell_type": "code",
      "execution_count": null,
      "metadata": {
        "colab": {
          "base_uri": "https://localhost:8080/",
          "height": 255
        },
        "id": "QijBzjZqnmP0",
        "outputId": "3979ccfa-ba8b-4cb8-b90d-e4a7248a06c6"
      },
      "outputs": [],
      "source": [
        "import pandas as pd\n",
        "\n",
        "\n",
        "data = pd.read_csv('Insurance claims data.csv')\n",
        "data.head()"
      ]
    },
    {
      "cell_type": "code",
      "execution_count": null,
      "metadata": {
        "colab": {
          "base_uri": "https://localhost:8080/"
        },
        "id": "eWvu8_AgrWTQ",
        "outputId": "06982d42-4bfe-490b-f75c-cb7c6abf8889"
      },
      "outputs": [],
      "source": [
        "#Preprocessing\n",
        "data.info()"
      ]
    },
    {
      "cell_type": "code",
      "execution_count": null,
      "metadata": {
        "colab": {
          "base_uri": "https://localhost:8080/",
          "height": 255
        },
        "id": "4hlFC8ONrtEi",
        "outputId": "243d3015-3824-4ab1-93e6-29ec2c398aa0"
      },
      "outputs": [],
      "source": [
        "data_copy = data.copy()\n",
        "\n",
        "\n",
        "#Dropping Policy ID column\n",
        "columns_to_drop = ['policy_id']\n",
        "data_copy.drop(columns=columns_to_drop, inplace=True)\n",
        "\n",
        "data_copy.head()"
      ]
    },
    {
      "cell_type": "code",
      "execution_count": null,
      "metadata": {
        "colab": {
          "base_uri": "https://localhost:8080/"
        },
        "id": "oaurT4oPMp8F",
        "outputId": "9c84a12b-18e7-46b0-c346-6e50ddbba134"
      },
      "outputs": [],
      "source": [
        "print(data_copy['claim_status'].unique())\n",
        "print(data_copy['is_esc'].unique())"
      ]
    },
    {
      "cell_type": "code",
      "execution_count": null,
      "metadata": {
        "colab": {
          "base_uri": "https://localhost:8080/"
        },
        "id": "E7JXWCKDsoNi",
        "outputId": "97d2152d-3fa4-49cd-b443-0f6e78ec75d6"
      },
      "outputs": [],
      "source": [
        "#changing the binary columns to Boolean\n",
        "\n",
        "binary_columns = [col for col in data_copy.columns if data_copy[col].nunique() == 2 and data_copy[col].dtype == 'object']\n",
        "print(binary_columns)\n",
        "\n",
        "\n",
        "for col in binary_columns:\n",
        "  data_copy[col] = data_copy[col].map({'Yes':True, 'No':False})\n",
        "\n",
        "\n",
        "data_copy.info()"
      ]
    },
    {
      "cell_type": "code",
      "execution_count": null,
      "metadata": {
        "colab": {
          "base_uri": "https://localhost:8080/",
          "height": 255
        },
        "id": "WF-7FmartgJE",
        "outputId": "91c83795-b459-4c50-8724-d87c1d788ca9"
      },
      "outputs": [],
      "source": [
        "#Extracting numeric Values\n",
        "\n",
        "data_copy['max_torque'] = data_copy['max_torque'].str.extract(r'(\\d+\\.\\d+|\\d+)').astype(float)\n",
        "data_copy['max_power'] = data_copy['max_power'].str.extract(r'(\\d+\\.\\d+|\\d+)').astype(float)\n",
        "\n",
        "data_copy.head()"
      ]
    },
    {
      "cell_type": "code",
      "execution_count": null,
      "metadata": {
        "colab": {
          "base_uri": "https://localhost:8080/",
          "height": 255
        },
        "id": "PwMuFM4IvEOK",
        "outputId": "0dbb5389-c7b1-4bb4-aebd-40a59b8535c7"
      },
      "outputs": [],
      "source": [
        "data['length_to_width_ratio'] = data['length'] / data['width']\n",
        "data_copy.head()"
      ]
    },
    {
      "cell_type": "code",
      "execution_count": null,
      "metadata": {
        "colab": {
          "base_uri": "https://localhost:8080/",
          "height": 412
        },
        "id": "scvvqZRXv3cn",
        "outputId": "845681bd-d54d-445d-cea1-716c3b4af96b"
      },
      "outputs": [],
      "source": [
        "continous_col = ['subscription_length','turning_radius']\n",
        "for col in continous_col:\n",
        "  data_copy[col] = (data_copy[col] - data_copy[col].mean()) / data_copy[col].std()\n",
        "\n",
        "data_copy.head(10)"
      ]
    },
    {
      "cell_type": "code",
      "execution_count": null,
      "metadata": {
        "colab": {
          "base_uri": "https://localhost:8080/",
          "height": 290
        },
        "id": "UMr_wZ3zwkm8",
        "outputId": "2738c1e4-3d52-4fc2-aa3d-f6d08a78079b"
      },
      "outputs": [],
      "source": [
        "categorical_columns = ['region_code','fuel_type','segment','model','engine_type','transmission_type','steering_type']\n",
        "data_copy = pd.get_dummies(data_copy, columns=categorical_columns, drop_first=True)\n",
        "\n",
        "\n",
        "data_copy.head()"
      ]
    },
    {
      "cell_type": "code",
      "execution_count": null,
      "metadata": {
        "colab": {
          "base_uri": "https://localhost:8080/"
        },
        "id": "AZYmE1e7yh5g",
        "outputId": "55ef044a-0747-47cd-ccca-08131766aa1c"
      },
      "outputs": [],
      "source": [
        "data_copy.info()\n",
        "\n",
        "data_copy.columns = data_copy.columns.str.replace(r'[.\\s]', '_', regex=True)\n",
        "\n",
        "\n",
        "# Mapping dataset headers to SQL table headers\n",
        "column_mapping = {\n",
        "    'engine_type_1_2_L_K_Series_Engine': 'engine_type_1_2_l_k_series_engine',\n",
        "    'engine_type_1_2_L_K12N_Dualjet': 'engine_type_1_2_l_k12n_dualjet',\n",
        "    'engine_type_1_5_L_U2_CRDi': 'engine_type_1_5_l_u2_crdi',\n",
        "    'engine_type_1_5_Turbocharged_Revotorq': 'engine_type_1_5_turbocharged_revotorq',\n",
        "    'engine_type_1_5_Turbocharged_Revotron': 'engine_type_1_5_turbocharged_revotron',\n",
        "    'engine_type_F8D_Petrol_Engine': 'engine_type_f8d_petrol_engine',\n",
        "    'engine_type_G12B': 'engine_type_g12b',\n",
        "    'engine_type_K_Series_Dual_jet': 'engine_type_k_series_dual_jet',\n",
        "    'engine_type_K10C': 'engine_type_k10c',\n",
        "    'engine_type_i-DTEC': 'engine_type_i_dtec'\n",
        "}\n",
        "\n",
        "# Rename dataset columns\n",
        "data_copy = data_copy.rename(columns=column_mapping)\n",
        "\n",
        "# Verify the renamed columns\n",
        "print(data_copy.columns)\n",
        "\n"
      ]
    },
    {
      "cell_type": "code",
      "execution_count": 17,
      "metadata": {
        "id": "iBI5FT8azA-4"
      },
      "outputs": [],
      "source": [
        "cleansed_file_path = 'Cleansed_insurance_claims_data (1).csv'\n",
        "data_copy.to_csv(cleansed_file_path, index=False)"
      ]
    },
    {
      "cell_type": "markdown",
      "metadata": {
        "id": "5aIGBD_60aC5"
      },
      "source": [
        "**SQL**"
      ]
    },
    {
      "cell_type": "code",
      "execution_count": null,
      "metadata": {
        "colab": {
          "base_uri": "https://localhost:8080/"
        },
        "id": "sruBNFWpzWDD",
        "outputId": "4ee9107a-97bb-475b-84d7-bb48b62593cb"
      },
      "outputs": [],
      "source": [
        "pip install psycopg2"
      ]
    },
    {
      "cell_type": "code",
      "execution_count": null,
      "metadata": {},
      "outputs": [],
      "source": [
        "print(data_copy['is_esc'].unique())\n",
        "\n",
        "\n",
        "print(data_copy.columns)"
      ]
    },
    {
      "cell_type": "code",
      "execution_count": null,
      "metadata": {
        "colab": {
          "base_uri": "https://localhost:8080/",
          "height": 211
        },
        "id": "z_kjqZv90ZOi",
        "outputId": "a3d9c186-14b8-4aac-c9fd-19332afd9b2b"
      },
      "outputs": [],
      "source": [
        "import psycopg2\n",
        "import pandas as pd\n",
        "\n",
        "conn = psycopg2.connect(\n",
        "    dbname = 'InsuranceWarehouse',\n",
        "    user = 'postgres',\n",
        "    password = 'your password',\n",
        "    host = 'localhost',\n",
        "    port ='5432'\n",
        ")\n",
        "\n",
        "cursor = conn.cursor()\n",
        "\n",
        "\n",
        "customers = data_copy[['customer_age','region_density']].drop_duplicates()\n",
        "\n",
        "for _, row in customers.iterrows():\n",
        "    cursor.execute(\n",
        "        \"INSERT INTO Customers (customer_age,region_density) VALUES (%s, %s)\",\n",
        "        (int(row['customer_age']),int(row['region_density']))\n",
        "    )\n",
        "\n",
        "vehicles = data_copy[['vehicle_age','fuel_type_Diesel','fuel_type_Petrol','airbags','displacement','max_torque','max_power']].drop_duplicates()\n",
        "\n",
        "for _, row in vehicles.iterrows():\n",
        "    cursor.execute(\n",
        "        \"INSERT INTO Vehicles (vehicle_age, fuel_type, airbags, displacement, max_torque, max_power) VALUES ( %s, %s, %s, %s, %s, %s)\",\n",
        "        (row['vehicle_age'], 'Diesel' if row['fuel_type_Diesel'] else 'Petrol', row['airbags'],row['displacement'],row['max_torque'],row['max_power'])\n",
        "    )\n",
        "\n",
        "features = data_copy[['is_esc', 'is_adjustable_steering', 'is_tpms', 'is_parking_sensors', 'is_parking_camera', 'is_front_fog_lights', 'is_rear_window_wiper', 'is_rear_window_washer', 'is_rear_window_defogger', 'is_brake_assist', 'is_power_door_locks', 'is_central_locking', 'is_power_steering', 'is_driver_seat_height_adjustable', 'is_day_night_rear_view_mirror', 'is_ecw', 'is_speed_alert']].drop_duplicates()\n",
        "for _, row in features.iterrows():\n",
        "    cursor.execute(\n",
        "        \"\"\"\n",
        "        INSERT INTO Features (is_esc, is_adjustable_steering, is_tpms, is_parking_sensors, is_parking_camera, is_front_fog_lights, is_rear_window_wiper, is_rear_window_washer, is_rear_window_defogger, is_brake_assist, is_power_door_locks, is_central_locking, is_power_steering, is_driver_seat_height_adjustable, is_day_night_rear_view_mirror, is_ecw, is_speed_alert)\n",
        "        VALUES (%s, %s, %s, %s, %s, %s, %s, %s, %s, %s, %s, %s, %s, %s, %s, %s, %s)\n",
        "        \"\"\",\n",
        "        tuple(row)\n",
        "    )\n",
        "\n",
        "regions = data_copy[['region_code_C10', 'region_code_C11', 'region_code_C12', 'region_code_C13', 'region_code_C14', 'region_code_C15', 'region_code_C16', 'region_code_C17', 'region_code_C18', 'region_code_C19', 'region_code_C2', 'region_code_C20', 'region_code_C21', 'region_code_C22', 'region_code_C3', 'region_code_C4', 'region_code_C5', 'region_code_C6', 'region_code_C7', 'region_code_C8', 'region_code_C9']].drop_duplicates()\n",
        "for _, row in regions.iterrows():\n",
        "    cursor.execute(\n",
        "        \"\"\"\n",
        "        INSERT INTO Regions (region_code_c10, region_code_c11, region_code_c12, region_code_c13, region_code_c14, region_code_c15, region_code_c16, region_code_c17, region_code_c18, region_code_c19, region_code_c2, region_code_c20, region_code_c21, region_code_c22, region_code_c3, region_code_c4, region_code_c5, region_code_c6, region_code_c7, region_code_c8, region_code_c9)\n",
        "        VALUES (%s, %s, %s, %s, %s, %s, %s, %s, %s, %s, %s, %s, %s, %s, %s, %s, %s, %s, %s, %s, %s)\n",
        "        \"\"\",\n",
        "        tuple(row)\n",
        "    )\n",
        "\n",
        "models = data_copy[['model_M2','model_M3','model_M4','model_M5','model_M6','model_M7','model_M8','model_M9','model_M10','model_M11']]\n",
        "\n",
        "for _,row in models.iterrows():\n",
        "    cursor.execute(\n",
        "        \"\"\"\n",
        "            INSERT INTO Models (model_m2, model_m3, model_m4, model_m5, model_m6, model_m7, model_m8, model_m9, model_m10, model_m11) VALUES\n",
        "            (%s,%s,%s,%s,%s,%s,%s,%s,%s,%s)\n",
        "        \"\"\",\n",
        "        tuple(row)\n",
        "    )\n",
        "\n",
        "engines = data_copy[[\n",
        "    'engine_type_1_2_l_k_series_engine', \n",
        "    'engine_type_1_2_l_k12n_dualjet', \n",
        "    'engine_type_1_5_l_u2_crdi', \n",
        "    'engine_type_1_5_turbocharged_revotorq',\n",
        "    'engine_type_1_5_turbocharged_revotron',\n",
        "    'engine_type_f8d_petrol_engine',\n",
        "    'engine_type_g12b', \n",
        "    'engine_type_k_series_dual_jet',\n",
        "    'engine_type_k10c',\n",
        "    'engine_type_i_dtec'\n",
        "]].drop_duplicates()\n",
        "\n",
        "# Insert data into the Engines table\n",
        "for _, row in engines.iterrows():\n",
        "    cursor.execute(\n",
        "        \"\"\"\n",
        "        INSERT INTO Engines (\n",
        "            engine_type_1_2_l_k_series_engine,\n",
        "            engine_type_1_2_l_k12n_dualjet,\n",
        "            engine_type_1_5_l_u2_crdi,\n",
        "            engine_type_1_5_turbocharged_revotorq,\n",
        "            engine_type_1_5_turbocharged_revotron,\n",
        "            engine_type_f8d_petrol_engine,\n",
        "            engine_type_g12b,\n",
        "            engine_type_k_series_dual_jet,\n",
        "            engine_type_k10c,\n",
        "            engine_type_i_dtec\n",
        "        )\n",
        "        VALUES (%s, %s, %s, %s, %s, %s, %s, %s, %s, %s)\n",
        "        \"\"\",\n",
        "        tuple(row)\n",
        "    )\n",
        "\n",
        "def get_dimension_id(field, table, columns, values):\n",
        "    query = f\"SELECT {field}_id FROM {table} WHERE \" + \" AND \".join([f\"{col}= %s\" for col in columns]) \n",
        "    cursor.execute(query,values)\n",
        "    result = cursor.fetchone()\n",
        "    if result:\n",
        "        return result[0]\n",
        "    else:\n",
        "        return None\n",
        "    \n",
        "\n",
        "for _,row in data_copy.iterrows():\n",
        "    customer_id = get_dimension_id(\"customer\",\"Customers\",[\"customer_age\",\"region_density\"],[row['customer_age'],row['region_density']])\n",
        "    vehicle_id = get_dimension_id('vehicle',\"Vehicles\", [\"vehicle_age\", \"fuel_type\", \"airbags\", \"displacement\"], [row[\"vehicle_age\"], 'Diesel' if row['fuel_type_Diesel'] else 'Petrol', row[\"airbags\"], row[\"displacement\"]])\n",
        "    feature_id = get_dimension_id('feature',\"Features\",[\n",
        "        \"is_esc\", \"is_adjustable_steering\", \"is_tpms\", \n",
        "        \"is_parking_sensors\", \"is_parking_camera\", \"is_front_fog_lights\",\n",
        "        \"is_rear_window_wiper\", \"is_rear_window_washer\", \"is_rear_window_defogger\", \n",
        "        \"is_brake_assist\", \"is_power_door_locks\", \"is_central_locking\", \n",
        "        \"is_power_steering\", \"is_driver_seat_height_adjustable\", \n",
        "        \"is_day_night_rear_view_mirror\", \"is_ecw\", \"is_speed_alert\"\n",
        "    ],\n",
        "    [\n",
        "        row[\"is_esc\"], row[\"is_adjustable_steering\"], row[\"is_tpms\"], \n",
        "        row[\"is_parking_sensors\"], row[\"is_parking_camera\"], row[\"is_front_fog_lights\"],\n",
        "        row[\"is_rear_window_wiper\"], row[\"is_rear_window_washer\"], row[\"is_rear_window_defogger\"], \n",
        "        row[\"is_brake_assist\"], row[\"is_power_door_locks\"], row[\"is_central_locking\"], \n",
        "        row[\"is_power_steering\"], row[\"is_driver_seat_height_adjustable\"], \n",
        "        row[\"is_day_night_rear_view_mirror\"], row[\"is_ecw\"], row[\"is_speed_alert\"]\n",
        "    ]\n",
        "    )\n",
        "    region_id = get_dimension_id('region',\"Regions\",[\n",
        "        \"region_code_C10\", \"region_code_C11\", \"region_code_C12\", \n",
        "        \"region_code_C13\", \"region_code_C14\", \"region_code_C15\", \n",
        "        \"region_code_C16\", \"region_code_C17\", \"region_code_C18\", \n",
        "        \"region_code_C19\", \"region_code_C2\", \"region_code_C20\", \n",
        "        \"region_code_C21\", \"region_code_C22\", \"region_code_C3\", \n",
        "        \"region_code_C4\", \"region_code_C5\", \"region_code_C6\", \n",
        "        \"region_code_C7\", \"region_code_C8\", \"region_code_C9\"\n",
        "    ],\n",
        "    [\n",
        "        row[\"region_code_C10\"], row[\"region_code_C11\"], row[\"region_code_C12\"], \n",
        "        row[\"region_code_C13\"], row[\"region_code_C14\"], row[\"region_code_C15\"], \n",
        "        row[\"region_code_C16\"], row[\"region_code_C17\"], row[\"region_code_C18\"], \n",
        "        row[\"region_code_C19\"], row[\"region_code_C2\"], row[\"region_code_C20\"], \n",
        "        row[\"region_code_C21\"], row[\"region_code_C22\"], row[\"region_code_C3\"], \n",
        "        row[\"region_code_C4\"], row[\"region_code_C5\"], row[\"region_code_C6\"], \n",
        "        row[\"region_code_C7\"], row[\"region_code_C8\"], row[\"region_code_C9\"]\n",
        "    ]\n",
        "    )\n",
        "    engine_id = get_dimension_id('engine',\"Engines\", [\n",
        "        \"engine_type_1_2_l_k_series_engine\", \n",
        "        \"engine_type_1_2_l_k12n_dualjet\", \n",
        "        \"engine_type_1_5_l_u2_crdi\", \n",
        "        \"engine_type_1_5_turbocharged_revotorq\",\n",
        "        \"engine_type_1_5_turbocharged_revotron\",\n",
        "        \"engine_type_f8d_petrol_engine\",\n",
        "        \"engine_type_g12b\", \n",
        "        \"engine_type_k_series_dual_jet\",\n",
        "        \"engine_type_k10c\",\n",
        "        \"engine_type_i_dtec\"\n",
        "    ],\n",
        "    [\n",
        "        row[\"engine_type_1_2_l_k_series_engine\"], \n",
        "        row[\"engine_type_1_2_l_k12n_dualjet\"], \n",
        "        row[\"engine_type_1_5_l_u2_crdi\"], \n",
        "        row[\"engine_type_1_5_turbocharged_revotorq\"],\n",
        "        row[\"engine_type_1_5_turbocharged_revotron\"],\n",
        "        row[\"engine_type_f8d_petrol_engine\"],\n",
        "        row[\"engine_type_g12b\"], \n",
        "        row[\"engine_type_k_series_dual_jet\"],\n",
        "        row[\"engine_type_k10c\"],\n",
        "        row[\"engine_type_i_dtec\"]\n",
        "    ]\n",
        "    )\n",
        "    model_id = get_dimension_id(\n",
        "    'model',\n",
        "    \"Models\",\n",
        "    [\n",
        "        \"model_M10\", \"model_M11\", \"model_M2\", \n",
        "        \"model_M3\", \"model_M4\", \"model_M5\", \n",
        "        \"model_M6\", \"model_M7\", \"model_M8\", \"model_M9\"\n",
        "    ],\n",
        "    [\n",
        "        row[\"model_M10\"], row[\"model_M11\"], row[\"model_M2\"], \n",
        "        row[\"model_M3\"], row[\"model_M4\"], row[\"model_M5\"], \n",
        "        row[\"model_M6\"], row[\"model_M7\"], row[\"model_M8\"], row[\"model_M9\"]\n",
        "    ]\n",
        "    )\n",
        "\n",
        "    if None in [customer_id, vehicle_id, feature_id, region_id, engine_id, model_id]:\n",
        "        continue\n",
        "\n",
        "    cursor.execute(\n",
        "        \"\"\"\n",
        "        INSERT INTO Claims (subscription_length, claim_status, customer_id, vehicle_id, feature_id, region_id, engine_id, model_id)\n",
        "        VALUES (%s, %s, %s, %s, %s, %s, %s, %s)\n",
        "        \"\"\",\n",
        "        (row[\"subscription_length\"], row[\"claim_status\"], customer_id, vehicle_id, feature_id, region_id, engine_id, model_id)\n",
        "    )\n",
        "\n",
        "\n",
        "# Commit changes and close the connection\n",
        "conn.commit()\n",
        "cursor.close()\n",
        "conn.close()\n",
        "\n",
        "print(\"Engines table has been successfully populated.\")"
      ]
    },
    {
      "cell_type": "code",
      "execution_count": null,
      "metadata": {
        "id": "pNkZczCc6_NM"
      },
      "outputs": [],
      "source": []
    }
  ],
  "metadata": {
    "colab": {
      "provenance": []
    },
    "kernelspec": {
      "display_name": "Python 3",
      "name": "python3"
    },
    "language_info": {
      "codemirror_mode": {
        "name": "ipython",
        "version": 3
      },
      "file_extension": ".py",
      "mimetype": "text/x-python",
      "name": "python",
      "nbconvert_exporter": "python",
      "pygments_lexer": "ipython3",
      "version": "3.12.7"
    }
  },
  "nbformat": 4,
  "nbformat_minor": 0
}
